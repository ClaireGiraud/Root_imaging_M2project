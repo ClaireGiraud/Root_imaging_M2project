{
 "cells": [
  {
   "cell_type": "code",
   "execution_count": 1,
   "metadata": {},
   "outputs": [],
   "source": [
    "from model import *\n",
    "from data import *"
   ]
  },
  {
   "cell_type": "markdown",
   "metadata": {},
   "source": [
    "### Train with data generator"
   ]
  },
  {
   "cell_type": "code",
   "execution_count": 2,
   "metadata": {},
   "outputs": [
    {
     "name": "stderr",
     "output_type": "stream",
     "text": [
      "C:\\Users\\Tracker\\anaconda3\\lib\\site-packages\\keras\\optimizer_v2\\adam.py:105: UserWarning: The `lr` argument is deprecated, use `learning_rate` instead.\n",
      "  super(Adam, self).__init__(name, **kwargs)\n",
      "C:\\Users\\Tracker\\AppData\\Local\\Temp/ipykernel_17336/2892825817.py:12: UserWarning: `Model.fit_generator` is deprecated and will be removed in a future version. Please use `Model.fit`, which supports generators.\n",
      "  model.fit_generator(myGene,steps_per_epoch=100,epochs=5,callbacks=[model_checkpoint])\n"
     ]
    },
    {
     "name": "stdout",
     "output_type": "stream",
     "text": [
      "Found 50 images belonging to 1 classes.\n",
      "Found 50 images belonging to 1 classes.\n",
      "Epoch 1/5\n",
      "100/100 [==============================] - ETA: 0s - loss: 0.0491 - accuracy: 0.9842\n",
      "Epoch 00001: loss improved from inf to 0.04912, saving model to unet_roots.hdf5\n",
      "100/100 [==============================] - 42s 348ms/step - loss: 0.0491 - accuracy: 0.9842\n",
      "Epoch 2/5\n",
      "100/100 [==============================] - ETA: 0s - loss: 0.0120 - accuracy: 0.9917\n",
      "Epoch 00002: loss improved from 0.04912 to 0.01196, saving model to unet_roots.hdf5\n",
      "100/100 [==============================] - 35s 349ms/step - loss: 0.0120 - accuracy: 0.9917\n",
      "Epoch 3/5\n",
      "100/100 [==============================] - ETA: 0s - loss: 0.0112 - accuracy: 0.9982\n",
      "Epoch 00003: loss improved from 0.01196 to 0.01120, saving model to unet_roots.hdf5\n",
      "100/100 [==============================] - 34s 347ms/step - loss: 0.0112 - accuracy: 0.9982\n",
      "Epoch 4/5\n",
      "100/100 [==============================] - ETA: 0s - loss: 0.0108 - accuracy: 0.9986\n",
      "Epoch 00004: loss improved from 0.01120 to 0.01078, saving model to unet_roots.hdf5\n",
      "100/100 [==============================] - 35s 350ms/step - loss: 0.0108 - accuracy: 0.9986\n",
      "Epoch 5/5\n",
      "100/100 [==============================] - ETA: 0s - loss: 0.0106 - accuracy: 0.9988\n",
      "Epoch 00005: loss improved from 0.01078 to 0.01056, saving model to unet_roots.hdf5\n",
      "100/100 [==============================] - 35s 348ms/step - loss: 0.0106 - accuracy: 0.9988\n"
     ]
    },
    {
     "data": {
      "text/plain": [
       "<keras.callbacks.History at 0x15d8c80b370>"
      ]
     },
     "execution_count": 2,
     "metadata": {},
     "output_type": "execute_result"
    }
   ],
   "source": [
    "data_gen_args = dict(rotation_range=0.2,\n",
    "                    width_shift_range=0.05,\n",
    "                    height_shift_range=0.05,\n",
    "                    shear_range=0.05,\n",
    "                    zoom_range=0.05,\n",
    "                    horizontal_flip=True,\n",
    "                    fill_mode='nearest')\n",
    "\n",
    "# Import the two images sets\n",
    "myGene = trainGenerator(2,'OO.Datasets/modified/blackroots','Photo','Masque',data_gen_args,save_to_dir = None)\n",
    "\n",
    "model = unet()\n",
    "\n",
    "# Saving weights\n",
    "model_checkpoint = ModelCheckpoint('unet_roots.hdf5', monitor='loss',verbose=1, save_best_only=True)\n",
    "\n",
    "# Training the model for 5 epochs\n",
    "model.fit_generator(myGene,steps_per_epoch=100,epochs=5,callbacks=[model_checkpoint])"
   ]
  },
  {
   "cell_type": "markdown",
   "metadata": {},
   "source": [
    "### Test your model and save predicted results"
   ]
  },
  {
   "cell_type": "code",
   "execution_count": 4,
   "metadata": {},
   "outputs": [
    {
     "name": "stderr",
     "output_type": "stream",
     "text": [
      "C:\\Users\\Tracker\\AppData\\Local\\Temp/ipykernel_17336/889045179.py:3: UserWarning: `Model.predict_generator` is deprecated and will be removed in a future version. Please use `Model.predict`, which supports generators.\n",
      "  results = model.predict_generator(testGene,10,verbose=1)\n"
     ]
    },
    {
     "name": "stdout",
     "output_type": "stream",
     "text": [
      "10/10 [==============================] - 6s 514ms/step\n"
     ]
    },
    {
     "name": "stderr",
     "output_type": "stream",
     "text": [
      "Lossy conversion from float32 to uint8. Range [0, 1]. Convert image to uint8 prior to saving to suppress this warning.\n",
      "Lossy conversion from float32 to uint8. Range [0, 1]. Convert image to uint8 prior to saving to suppress this warning.\n",
      "Lossy conversion from float32 to uint8. Range [0, 1]. Convert image to uint8 prior to saving to suppress this warning.\n",
      "Lossy conversion from float32 to uint8. Range [0, 1]. Convert image to uint8 prior to saving to suppress this warning.\n",
      "Lossy conversion from float32 to uint8. Range [0, 1]. Convert image to uint8 prior to saving to suppress this warning.\n",
      "Lossy conversion from float32 to uint8. Range [0, 1]. Convert image to uint8 prior to saving to suppress this warning.\n",
      "Lossy conversion from float32 to uint8. Range [0, 1]. Convert image to uint8 prior to saving to suppress this warning.\n",
      "Lossy conversion from float32 to uint8. Range [0, 1]. Convert image to uint8 prior to saving to suppress this warning.\n",
      "Lossy conversion from float32 to uint8. Range [0, 1]. Convert image to uint8 prior to saving to suppress this warning.\n",
      "Lossy conversion from float32 to uint8. Range [0, 1]. Convert image to uint8 prior to saving to suppress this warning.\n"
     ]
    }
   ],
   "source": [
    "testGene = testGenerator(\"07.Compare_F1_set/res_2D_unet/photos\",10)\n",
    "\n",
    "results = model.predict_generator(testGene,10,verbose=1)\n",
    "saveResult(\"07.Compare_F1_set/res_2D_unet/pred',results)"
   ]
  },
  {
   "cell_type": "code",
   "execution_count": null,
   "metadata": {
    "pycharm": {
     "name": "#%%\n"
    }
   },
   "outputs": [],
   "source": [
    "model = unet()\n",
    "model.load_weights(\"unet_roots.hdf5\") # loading the saved weights\n",
    "\n",
    "path_final_pred = '04.2D_U-net/predictions'\n",
    "for i,dir_ in enumerate(os.listdir(path_final_pred)):\n",
    "    print(f'\\nProcessing {dir_} {i}/{len(os.listdir(path_final_pred))}...')\n",
    "    \n",
    "    path_img = path_final_pred+'/'+dir_+'/Photo/'\n",
    "\n",
    "    #preprocessing\n",
    "    \n",
    "    try:\n",
    "        nb=len(os.listdir(path_img))\n",
    "    except:\n",
    "        path_img = path_final_pred+'/'+dir_+'/Photos/'\n",
    "        nb=len(os.listdir(path_img))\n",
    "\n",
    "    names=os.listdir(path_img)\n",
    "    testGene = testGenerator(path_img,nb, names=names)\n",
    "    results = model.predict_generator(testGene,nb,verbose=1)\n",
    "\n",
    "    #saving\n",
    "    path_save = path_final_pred+'/'+dir_+'/Mask_pred/'\n",
    "    \n",
    "    if not os.path.exists(path_save):\n",
    "        os.mkdir(path_save)\n",
    "        \n",
    "    pred_names = ['pred_'+name for name in names]\n",
    "    saveResult(path_save,results, names=pred_names)\n"
   ]
  }
 ],
 "metadata": {
  "kernelspec": {
   "display_name": "Python 3 (ipykernel)",
   "language": "python",
   "name": "python3"
  },
  "language_info": {
   "codemirror_mode": {
    "name": "ipython",
    "version": 3
   },
   "file_extension": ".py",
   "mimetype": "text/x-python",
   "name": "python",
   "nbconvert_exporter": "python",
   "pygments_lexer": "ipython3",
   "version": "3.9.7"
  }
 },
 "nbformat": 4,
 "nbformat_minor": 2
}
